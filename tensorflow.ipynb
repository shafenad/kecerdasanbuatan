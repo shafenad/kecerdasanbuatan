{
 "cells": [
  {
   "cell_type": "code",
   "execution_count": 2,
   "metadata": {},
   "outputs": [
    {
     "name": "stdout",
     "output_type": "stream",
     "text": [
      "Epoch 1/10\n",
      "625/625 [==============================] - 2s 3ms/step - loss: 0.4664 - accuracy: 0.7584 - val_loss: 0.3588 - val_accuracy: 0.8406\n",
      "Epoch 2/10\n",
      "625/625 [==============================] - 2s 2ms/step - loss: 0.1817 - accuracy: 0.9325 - val_loss: 0.4209 - val_accuracy: 0.8264\n",
      "Epoch 3/10\n",
      "625/625 [==============================] - 2s 3ms/step - loss: 0.0414 - accuracy: 0.9873 - val_loss: 0.6622 - val_accuracy: 0.8162\n",
      "Epoch 4/10\n",
      "625/625 [==============================] - 2s 2ms/step - loss: 0.0089 - accuracy: 0.9972 - val_loss: 0.9244 - val_accuracy: 0.8152\n",
      "Epoch 5/10\n",
      "625/625 [==============================] - 2s 3ms/step - loss: 0.0041 - accuracy: 0.9985 - val_loss: 1.0671 - val_accuracy: 0.8112\n",
      "Epoch 6/10\n",
      "625/625 [==============================] - 2s 3ms/step - loss: 0.0188 - accuracy: 0.9938 - val_loss: 0.9959 - val_accuracy: 0.8042\n",
      "Epoch 7/10\n",
      "625/625 [==============================] - 2s 3ms/step - loss: 0.0119 - accuracy: 0.9958 - val_loss: 1.0341 - val_accuracy: 0.8108\n",
      "Epoch 8/10\n",
      "625/625 [==============================] - 2s 2ms/step - loss: 0.0031 - accuracy: 0.9987 - val_loss: 1.2631 - val_accuracy: 0.8074\n",
      "Epoch 9/10\n",
      "625/625 [==============================] - 2s 2ms/step - loss: 0.0079 - accuracy: 0.9972 - val_loss: 1.2291 - val_accuracy: 0.7940\n",
      "Epoch 10/10\n",
      "625/625 [==============================] - 2s 2ms/step - loss: 0.0103 - accuracy: 0.9963 - val_loss: 1.1058 - val_accuracy: 0.8054\n",
      "782/782 [==============================] - 1s 1ms/step - loss: 1.1007 - accuracy: 0.8040\n",
      "Test accuracy: 0.8040400147438049\n"
     ]
    }
   ],
   "source": [
    "import tensorflow as tf\n",
    "from tensorflow import keras\n",
    "from tensorflow.keras.datasets import imdb\n",
    "\n",
    "# Memuat dataset IMDB\n",
    "(train_data, train_labels), (test_data, test_labels) = imdb.load_data(num_words=10000)\n",
    "\n",
    "# Normalisasi data (sesuaikan dengan kebutuhan Anda)\n",
    "# Misalnya, padding data agar memiliki panjang yang sama\n",
    "from tensorflow.keras.preprocessing.sequence import pad_sequences\n",
    "\n",
    "maxlen = 50  # Jumlah maksimum kata dalam sebuah ulasan\n",
    "train_data = pad_sequences(train_data, maxlen=maxlen)\n",
    "test_data = pad_sequences(test_data, maxlen=maxlen)\n",
    "\n",
    "# Membangun model dengan dua hidden layer tambahan\n",
    "model = keras.Sequential([\n",
    "    keras.layers.Embedding(10000, 16, input_length=maxlen),\n",
    "    keras.layers.Flatten(),\n",
    "    keras.layers.Dense(32, activation='relu'),  # Hidden Layer 1\n",
    "    keras.layers.Dense(16, activation='relu'),  # Hidden Layer 2\n",
    "    keras.layers.Dense(16, activation='relu'),  # Hidden Layer 3\n",
    "    keras.layers.Dense(1, activation='sigmoid')\n",
    "])\n",
    "\n",
    "# Kompilasi model\n",
    "model.compile(optimizer='adam', loss='binary_crossentropy', metrics=['accuracy'])\n",
    "\n",
    "# Melatih model\n",
    "history = model.fit(train_data, train_labels, epochs=10, batch_size=32, validation_split=0.2)\n",
    "\n",
    "# Evaluasi model pada data pengujian\n",
    "test_loss, test_accuracy = model.evaluate(test_data, test_labels)\n",
    "print(\"Test accuracy:\", test_accuracy)\n"
   ]
  }
 ],
 "metadata": {
  "kernelspec": {
   "display_name": "Python 3",
   "language": "python",
   "name": "python3"
  },
  "language_info": {
   "codemirror_mode": {
    "name": "ipython",
    "version": 3
   },
   "file_extension": ".py",
   "mimetype": "text/x-python",
   "name": "python",
   "nbconvert_exporter": "python",
   "pygments_lexer": "ipython3",
   "version": "3.11.1"
  },
  "orig_nbformat": 4
 },
 "nbformat": 4,
 "nbformat_minor": 2
}
