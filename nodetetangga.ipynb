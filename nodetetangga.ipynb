{
 "cells": [
  {
   "cell_type": "code",
   "execution_count": 6,
   "metadata": {},
   "outputs": [
    {
     "name": "stdout",
     "output_type": "stream",
     "text": [
      "Node 'H' tidak ditemukan dalam graf.\n"
     ]
    },
    {
     "data": {
      "text/plain": [
       "False"
      ]
     },
     "execution_count": 6,
     "metadata": {},
     "output_type": "execute_result"
    }
   ],
   "source": [
    "from collections import deque\n",
    "\n",
    "def bfs(graph, start, target):\n",
    "    visited = set()\n",
    "    queue = deque([start])\n",
    "\n",
    "    while queue:\n",
    "        node = queue.popleft()\n",
    "        if node == target:\n",
    "            print(\"Node 'H' ditemukan!\")\n",
    "            return True\n",
    "        if node not in visited:\n",
    "            visited.add(node)\n",
    "            queue.extend(child for child in graph[node] if child not in visited)\n",
    "    print(\"Node 'H' tidak ditemukan dalam graf.\")\n",
    "    return False\n",
    "\n",
    "# Graf\n",
    "graph = dict()\n",
    "graph['A'] = ['B', 'G', 'D']\n",
    "graph['B'] = ['A', 'F', 'E']\n",
    "graph['C'] = ['F', 'H']\n",
    "graph['D'] = ['F', 'A']\n",
    "graph['E'] = ['B', 'G']\n",
    "graph['F'] = ['B', 'D', 'C']\n",
    "graph['G'] = ['A', 'E']\n",
    "graph['H'] = ['C']\n",
    "\n",
    "# Memanggil fungsi BFS dengan node awal 'A' dan node target 'H'\n",
    "bfs(graph, 'A', 'H')\n"
   ]
  },
  {
   "cell_type": "code",
   "execution_count": null,
   "metadata": {},
   "outputs": [],
   "source": [
    "graph = dict()\n",
    "graph['A'] = ['B', 'C', 'D']\n",
    "graph['B'] = ['A', 'F', 'E']\n",
    "graph['C'] = ['A', 'F']\n",
    "graph['D'] = ['A']\n",
    "graph['E'] = ['B']\n",
    "graph['F'] = ['B', 'C']"
   ]
  },
  {
   "cell_type": "code",
   "execution_count": 18,
   "metadata": {},
   "outputs": [
    {
     "name": "stdout",
     "output_type": "stream",
     "text": [
      "Urutan node yang dikunjungi :\n",
      "A B G D F E C H "
     ]
    }
   ],
   "source": [
    "#Contoh Implementasi Algoritma Breadth First Search\n",
    "\n",
    "#Membuat Graf dan menuliskan node-node yang ada pada graf\n",
    "graph = dict()\n",
    "graph['A'] = ['B', 'G', 'D']\n",
    "graph['B'] = ['A', 'F', 'E']\n",
    "graph['C'] = ['F', 'H']\n",
    "graph['D'] = ['F', 'A']\n",
    "graph['E'] = ['B', 'G']\n",
    "graph['F'] = ['B', 'D', 'C']\n",
    "graph['G'] = ['A', 'E']\n",
    "graph['H'] = ['C']\n",
    "      \n",
    "\n",
    "#Membuat List / array kosong\n",
    "visited = [] # List untuk menyimpan node yang sudah dikunjungi\n",
    "queue = []    #List untuk menyimpan node yang ada dalam antrian\n",
    "\n",
    "#membuat fungsi bfs\n",
    "def bfs(visited, graph, node): \n",
    "     visited.append(node)\n",
    "     queue.append(node)\n",
    "     while queue:       # membuat perulangan untuk mengunjungi setiap node\n",
    "            m = queue.pop(0)\n",
    "            print (m, end = \" \")\n",
    "\n",
    "#untuk setiap node lain yang terhubung dengan node m (node saat ini), dimasukkan kedalam antrian queue\n",
    "            for neighbour in graph[m]:   \n",
    "                if neighbour not in visited:\n",
    "                    visited.append(neighbour)\n",
    "                    queue.append(neighbour) \n",
    "                       \n",
    "print(\"Urutan node yang dikunjungi :\")\n",
    "bfs(visited, graph, 'A')    # pemanggilan fungsi bfs\n"
   ]
  },
  {
   "cell_type": "code",
   "execution_count": 17,
   "metadata": {},
   "outputs": [
    {
     "name": "stdout",
     "output_type": "stream",
     "text": [
      "Urutan node yang dikunjungi:\n",
      "A B G D F E C H "
     ]
    }
   ],
   "source": [
    "graph = dict()\n",
    "graph['A'] = ['B', 'G', 'D']\n",
    "graph['B'] = ['A', 'F', 'E']\n",
    "graph['C'] = ['F', 'H']\n",
    "graph['D'] = ['F', 'A']\n",
    "graph['E'] = ['B', 'G']\n",
    "graph['F'] = ['B', 'D', 'C']\n",
    "graph['G'] = ['A', 'E']\n",
    "graph['H'] = ['C']\n",
    "\n",
    "visited = []  # List untuk menyimpan node yang sudah dikunjungi\n",
    "queue = []    # List untuk menyimpan node yang ada dalam antrian\n",
    "\n",
    "def bfs(visited, graph, node):\n",
    "    visited.append(node)\n",
    "    queue.append(node)\n",
    "    while queue:\n",
    "        m = queue.pop(0)\n",
    "        print(m, end=\" \")\n",
    "\n",
    "        for neighbour in graph[m]:\n",
    "            if neighbour not in visited:\n",
    "                visited.append(neighbour)\n",
    "                queue.append(neighbour)\n",
    "\n",
    "print(\"Urutan node yang dikunjungi:\")\n",
    "bfs(visited, graph, 'A')  # Memanggil fungsi bfs dengan node awal 'A'\n"
   ]
  },
  {
   "cell_type": "code",
   "execution_count": 3,
   "metadata": {},
   "outputs": [
    {
     "name": "stdout",
     "output_type": "stream",
     "text": [
      "Urutan node yang dikunjungi:\n",
      "E B A F C D \n",
      "\n",
      "Node 'D' ditemukan!\n"
     ]
    },
    {
     "data": {
      "text/plain": [
       "True"
      ]
     },
     "execution_count": 3,
     "metadata": {},
     "output_type": "execute_result"
    }
   ],
   "source": [
    "from collections import deque\n",
    "\n",
    "# Graf\n",
    "graph = {\n",
    "    'A' : ['B', 'C', 'D'],\n",
    "    'B' : ['A', 'F', 'E'],\n",
    "    'C' : ['A', 'F'],\n",
    "    'D' : ['A'],\n",
    "    'E' : ['B'],\n",
    "    'F' : ['B', 'C']\n",
    "}\n",
    "\n",
    "# Fungsi BFS untuk mencari node 'H'\n",
    "def bfs(graph, start, target):\n",
    "    visited = set()\n",
    "    queue = deque([start])\n",
    "\n",
    "    while queue:\n",
    "        node = queue.popleft()\n",
    "        print(node, end=\" \")  # Menampilkan node yang telah dikunjungi\n",
    "        if node == target:\n",
    "            print(\"\\n\\nNode 'D' ditemukan!\")\n",
    "            return True\n",
    "        if node not in visited:\n",
    "            visited.add(node)\n",
    "            queue.extend(child for child in graph[node] if child not in visited and child not in queue)\n",
    "    print(\"\\nNode 'D' tidak ditemukan dalam graf.\")\n",
    "    return False\n",
    "\n",
    "# Memanggil fungsi BFS dengan node awal 'E' dan node target 'D'\n",
    "print(\"Urutan node yang dikunjungi:\")\n",
    "bfs(graph, 'E', 'D')\n"
   ]
  },
  {
   "cell_type": "code",
   "execution_count": 21,
   "metadata": {},
   "outputs": [
    {
     "name": "stdout",
     "output_type": "stream",
     "text": [
      "Urutan node yang dikunjungi (Graf Kedua):\n",
      "A\n",
      "B\n",
      "F\n",
      "D\n",
      "C\n",
      "H\n",
      "E\n",
      "G\n"
     ]
    }
   ],
   "source": [
    "graph2 = {\n",
    "    'A': ['B', 'G', 'D'],\n",
    "    'B': ['A', 'F', 'E'],\n",
    "    'C': ['F', 'H'],\n",
    "    'D': ['F', 'A'],\n",
    "    'E': ['B', 'G'],\n",
    "    'F': ['B', 'D', 'C'],\n",
    "    'G': ['A', 'E'],\n",
    "    'H': ['C']\n",
    "}\n",
    "\n",
    "# Membuat List / array kosong untuk menyimpan node yang sudah dikunjungi\n",
    "visited = set()\n",
    "\n",
    "# Fungsi DFS\n",
    "def dfs(visited, graph, node):\n",
    "    if node not in visited:\n",
    "        print(node)\n",
    "        visited.add(node)\n",
    "        for neighbour in graph[node]:\n",
    "            dfs(visited, graph, neighbour)\n",
    "# Memanggil fungsi DFS untuk graf kedua\n",
    "print(\"Urutan node yang dikunjungi (Graf Kedua):\")\n",
    "dfs(visited, graph2, 'A')\n"
   ]
  },
  {
   "cell_type": "code",
   "execution_count": 1,
   "metadata": {},
   "outputs": [
    {
     "name": "stdout",
     "output_type": "stream",
     "text": [
      "Urutan node yang dikunjungi:\n",
      "E\n",
      "B\n",
      "A\n",
      "C\n",
      "F\n",
      "D\n",
      "Node 'D' ditemukan!\n"
     ]
    },
    {
     "data": {
      "text/plain": [
       "False"
      ]
     },
     "execution_count": 1,
     "metadata": {},
     "output_type": "execute_result"
    }
   ],
   "source": [
    "# Graf\n",
    "graph = {\n",
    "    'A' : ['B', 'C', 'D'],\n",
    "    'B' : ['A', 'F', 'E'],\n",
    "    'C' : ['A', 'F'],\n",
    "    'D' : ['A'],\n",
    "    'E' : ['B'],\n",
    "    'F' : ['B', 'C']\n",
    "}\n",
    "\n",
    "# Fungsi DFS untuk mencari node 'H'\n",
    "def dfs(graph, node, visited):\n",
    "    if node not in visited:\n",
    "        print(node)\n",
    "        visited.add(node)\n",
    "        if node == 'D':\n",
    "            print(\"Node 'D' ditemukan!\")\n",
    "            return True\n",
    "        for neighbor in graph[node]:\n",
    "            dfs(graph, neighbor, visited)\n",
    "    return False\n",
    "\n",
    "# Memanggil fungsi DFS dengan node awal 'G' dan set visited kosong\n",
    "print(\"Urutan node yang dikunjungi:\")\n",
    "dfs(graph, 'E', set())\n"
   ]
  },
  {
   "cell_type": "code",
   "execution_count": 4,
   "metadata": {},
   "outputs": [
    {
     "name": "stdout",
     "output_type": "stream",
     "text": [
      "Jalur terpendek dari Bondowoso ke Banyuwangi adalah: ['Bondowoso', 'Situbondo', 'Banyuwangi']\n"
     ]
    }
   ],
   "source": [
    "# Tabel nilai heuristik\n",
    "heuristic = {\n",
    "    'Bondowoso': 150,\n",
    "    'Jember': 100,\n",
    "    'Situbondo': 90,\n",
    "    'Banyuwangi': 0\n",
    "}\n",
    "\n",
    "# Graf hubungan antar kota\n",
    "graph = {\n",
    "    'Bondowoso': ['Jember', 'Situbondo'],\n",
    "    'Jember': ['Bondowoso', 'Situbondo'],\n",
    "    'Situbondo': ['Bondowoso', 'Jember', 'Banyuwangi'],\n",
    "    'Banyuwangi': ['Situbondo']\n",
    "}\n",
    "\n",
    "def astar(start, goal):\n",
    "    open_set = [start]\n",
    "    came_from = {}  # menyimpan informasi predesesor\n",
    "    g_scores = {city: float('inf') for city in graph}  # biaya aktual dari simpul awal ke simpul saat ini\n",
    "    g_scores[start] = 0\n",
    "    \n",
    "    while open_set:\n",
    "        current = min(open_set, key=lambda city: g_scores[city] + heuristic[city])\n",
    "        \n",
    "        if current == goal:\n",
    "            path = []\n",
    "            while current in came_from:\n",
    "                path.insert(0, current)\n",
    "                current = came_from[current]\n",
    "            path.insert(0, start)\n",
    "            return path\n",
    "        \n",
    "        open_set.remove(current)\n",
    "        \n",
    "        for neighbor in graph[current]:\n",
    "            tentative_g_score = g_scores[current] + 1  # Biaya dari simpul awal ke tetangga adalah 1 (karena jarak antar semua tetangga adalah 1)\n",
    "            \n",
    "            if tentative_g_score < g_scores[neighbor]:\n",
    "                came_from[neighbor] = current\n",
    "                g_scores[neighbor] = tentative_g_score\n",
    "                if neighbor not in open_set:\n",
    "                    open_set.append(neighbor)\n",
    "    \n",
    "    return None  # Tidak ada jalur yang ditemukan\n",
    "\n",
    "# Mencari jalur terpendek dari Bondowoso ke Banyuwangi\n",
    "start_city = 'Bondowoso'\n",
    "goal_city = 'Banyuwangi'\n",
    "shortest_path = astar(start_city, goal_city)\n",
    "\n",
    "if shortest_path:\n",
    "    print('Jalur terpendek dari', start_city, 'ke', goal_city, 'adalah:', shortest_path)\n",
    "else:\n",
    "    print('Tidak ada jalur yang menghubungkan', start_city, 'dan', goal_city)\n"
   ]
  },
  {
   "cell_type": "code",
   "execution_count": 23,
   "metadata": {},
   "outputs": [
    {
     "name": "stdout",
     "output_type": "stream",
     "text": [
      "Urutan node yang dikunjungi:\n",
      "G A B G D E B G \n",
      "Node 'H' tidak ditemukan dalam batasan kedalaman 2.\n"
     ]
    }
   ],
   "source": [
    "# Graf\n",
    "graph = {\n",
    "    'A': ['B', 'G', 'D'],\n",
    "    'B': ['A', 'F', 'E'],\n",
    "    'C': ['F', 'H'],\n",
    "    'D': ['F', 'A'],\n",
    "    'E': ['B', 'G'],\n",
    "    'F': ['B', 'D', 'C'],\n",
    "    'G': ['A', 'E'],\n",
    "    'H': ['C']\n",
    "}\n",
    "\n",
    "# Fungsi DLS untuk mencari node 'H' dengan batasan kedalaman\n",
    "def dls(graph, node, target, depth_limit):\n",
    "    if depth_limit >= 0:\n",
    "        print(node, end=\" \")  # Menampilkan node yang dikunjungi\n",
    "        if node == target:\n",
    "            print(\"\\nNode 'H' ditemukan!\")\n",
    "            return True\n",
    "        for neighbor in graph[node]:\n",
    "            if dls(graph, neighbor, target, depth_limit - 1):\n",
    "                return True\n",
    "    return False\n",
    "\n",
    "# Fungsi pencarian DLS dengan batasan kedalaman = 2, dimulai dari node 'G' (keadaan awal)\n",
    "print(\"Urutan node yang dikunjungi:\")\n",
    "if not dls(graph, 'G', 'H', 2):\n",
    "    print(\"\\nNode 'H' tidak ditemukan dalam batasan kedalaman 2.\")\n"
   ]
  }
 ],
 "metadata": {
  "kernelspec": {
   "display_name": "Python 3",
   "language": "python",
   "name": "python3"
  },
  "language_info": {
   "codemirror_mode": {
    "name": "ipython",
    "version": 3
   },
   "file_extension": ".py",
   "mimetype": "text/x-python",
   "name": "python",
   "nbconvert_exporter": "python",
   "pygments_lexer": "ipython3",
   "version": "3.11.1"
  }
 },
 "nbformat": 4,
 "nbformat_minor": 2
}
